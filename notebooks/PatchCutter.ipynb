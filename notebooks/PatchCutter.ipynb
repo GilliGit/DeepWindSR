{
 "cells": [
  {
   "cell_type": "code",
   "execution_count": 2,
   "id": "9381fdb3",
   "metadata": {},
   "outputs": [],
   "source": [
    "import numpy as np\n",
    "import numbers\n",
    "\n",
    "\n",
    "class PatchCutter(object):\n",
    "    def __init__(self, patch_size=None, dim=2):\n",
    "        if isinstance(patch_size, numbers.Number):\n",
    "            patch_size = [patch_size] * dim\n",
    "        else:\n",
    "            if patch_size is not None:\n",
    "                assert len(patch_size) == dim\n",
    "                patch_size = np.array(patch_size).astype(int)\n",
    "        self.dim = dim\n",
    "        self.patch_size = patch_size\n",
    "        self.relative_offset = np.zeros(dim)\n",
    "\n",
    "    def __call__(self, input):\n",
    "        if self.patch_size is not None:\n",
    "            if len(input) == 0:\n",
    "                return input, np.zeros(2, dtype=int)\n",
    "            input_dim = len(input.shape)\n",
    "            assert input_dim >= self.dim\n",
    "            input_size = np.array(input.shape[-self.dim:]).astype(int)\n",
    "            max_shift = input_size - self.patch_size\n",
    "            assert np.all(max_shift >= 0)\n",
    "            lower_bounds = np.round(max_shift * self.relative_offset).astype(int)\n",
    "            upper_bounds = lower_bounds + self.patch_size\n",
    "            selection = (slice(None, None, None),) * (input_dim - self.dim)\n",
    "            selection += tuple(slice(lb, ub, None) for lb, ub in zip(lower_bounds, upper_bounds))\n",
    "            return input[selection], lower_bounds\n",
    "        else:\n",
    "            return input, np.zeros(2, dtype=int)\n",
    "\n",
    "    def randomize(self):\n",
    "        self.relative_offset = np.random.uniform(0, 1, 2)\n",
    "        return self.relative_offset\n",
    "\n",
    "    def synchronize(self, patch_cutter):\n",
    "        self.relative_offset = patch_cutter.relative_offset\n",
    "        return self.relative_offset\n",
    "\n",
    "if __name__ == '__main__':\n",
    "    patcher_a = PatchCutter(patch_size=(24, 36))\n",
    "    patcher_b = PatchCutter(patch_size=(96, 108))\n",
    "    a = np.random.randn(36,60)\n",
    "    b = np.random.randn(4, 144, 180)\n",
    "    patcher_a.randomize()\n",
    "    patcher_b.synchronize(patcher_a)\n",
    "    print(np.shape(patcher_a(a)[0]),np.shape(patcher_b(b)[0]))"
   ]
  }
 ],
 "metadata": {
  "hide_input": false,
  "kernelspec": {
   "display_name": "Python [conda env:tf_env]",
   "language": "python",
   "name": "conda-env-tf_env-py"
  },
  "language_info": {
   "codemirror_mode": {
    "name": "ipython",
    "version": 3
   },
   "file_extension": ".py",
   "mimetype": "text/x-python",
   "name": "python",
   "nbconvert_exporter": "python",
   "pygments_lexer": "ipython3",
   "version": "3.6.10"
  },
  "toc": {
   "base_numbering": 1,
   "nav_menu": {},
   "number_sections": false,
   "sideBar": true,
   "skip_h1_title": true,
   "title_cell": "Table of Contents",
   "title_sidebar": "Contents",
   "toc_cell": false,
   "toc_position": {},
   "toc_section_display": true,
   "toc_window_display": false
  }
 },
 "nbformat": 4,
 "nbformat_minor": 5
}
